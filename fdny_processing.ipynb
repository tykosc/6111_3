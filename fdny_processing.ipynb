{
 "cells": [
  {
   "cell_type": "markdown",
   "source": [
    "# Data Prep Script\n",
    "## School Statistics"
   ],
   "metadata": {}
  },
  {
   "cell_type": "code",
   "execution_count": 4,
   "source": [
    "import pandas as pd\n",
    "from pandasql import sqldf\n",
    "import numpy as np"
   ],
   "outputs": [],
   "metadata": {}
  },
  {
   "cell_type": "markdown",
   "source": [
    "## "
   ],
   "metadata": {}
  },
  {
   "cell_type": "markdown",
   "source": [
    "##\n"
   ],
   "metadata": {}
  },
  {
   "cell_type": "code",
   "execution_count": 28,
   "source": [
    "fdny = pd.read_csv('./datasets/response_times.csv')\n",
    "fdny"
   ],
   "outputs": [
    {
     "output_type": "execute_result",
     "data": {
      "text/html": [
       "<div>\n",
       "<style scoped>\n",
       "    .dataframe tbody tr th:only-of-type {\n",
       "        vertical-align: middle;\n",
       "    }\n",
       "\n",
       "    .dataframe tbody tr th {\n",
       "        vertical-align: top;\n",
       "    }\n",
       "\n",
       "    .dataframe thead th {\n",
       "        text-align: right;\n",
       "    }\n",
       "</style>\n",
       "<table border=\"1\" class=\"dataframe\">\n",
       "  <thead>\n",
       "    <tr style=\"text-align: right;\">\n",
       "      <th></th>\n",
       "      <th>YEARMONTH</th>\n",
       "      <th>INCIDENTCLASSIFICATION</th>\n",
       "      <th>INCIDENTBOROUGH</th>\n",
       "      <th>INCIDENTCOUNT</th>\n",
       "      <th>AVERAGERESPONSETIME</th>\n",
       "    </tr>\n",
       "  </thead>\n",
       "  <tbody>\n",
       "    <tr>\n",
       "      <th>0</th>\n",
       "      <td>2009/07</td>\n",
       "      <td>All Fire/Emergency Incidents</td>\n",
       "      <td>Citywide</td>\n",
       "      <td>40850</td>\n",
       "      <td>04:27</td>\n",
       "    </tr>\n",
       "    <tr>\n",
       "      <th>1</th>\n",
       "      <td>2009/07</td>\n",
       "      <td>All Fire/Emergency Incidents</td>\n",
       "      <td>Manhattan</td>\n",
       "      <td>10709</td>\n",
       "      <td>04:32</td>\n",
       "    </tr>\n",
       "    <tr>\n",
       "      <th>2</th>\n",
       "      <td>2009/07</td>\n",
       "      <td>All Fire/Emergency Incidents</td>\n",
       "      <td>Bronx</td>\n",
       "      <td>8137</td>\n",
       "      <td>04:37</td>\n",
       "    </tr>\n",
       "    <tr>\n",
       "      <th>3</th>\n",
       "      <td>2009/07</td>\n",
       "      <td>All Fire/Emergency Incidents</td>\n",
       "      <td>Staten Island</td>\n",
       "      <td>2205</td>\n",
       "      <td>04:45</td>\n",
       "    </tr>\n",
       "    <tr>\n",
       "      <th>4</th>\n",
       "      <td>2009/07</td>\n",
       "      <td>All Fire/Emergency Incidents</td>\n",
       "      <td>Brooklyn</td>\n",
       "      <td>11505</td>\n",
       "      <td>04:01</td>\n",
       "    </tr>\n",
       "    <tr>\n",
       "      <th>...</th>\n",
       "      <td>...</td>\n",
       "      <td>...</td>\n",
       "      <td>...</td>\n",
       "      <td>...</td>\n",
       "      <td>...</td>\n",
       "    </tr>\n",
       "    <tr>\n",
       "      <th>4363</th>\n",
       "      <td>FY 2017</td>\n",
       "      <td>Structural Fires</td>\n",
       "      <td>Manhattan</td>\n",
       "      <td>5669</td>\n",
       "      <td>04:26</td>\n",
       "    </tr>\n",
       "    <tr>\n",
       "      <th>4364</th>\n",
       "      <td>FY 2017</td>\n",
       "      <td>Structural Fires</td>\n",
       "      <td>Bronx</td>\n",
       "      <td>5829</td>\n",
       "      <td>04:22</td>\n",
       "    </tr>\n",
       "    <tr>\n",
       "      <th>4365</th>\n",
       "      <td>FY 2017</td>\n",
       "      <td>Structural Fires</td>\n",
       "      <td>Staten Island</td>\n",
       "      <td>1266</td>\n",
       "      <td>04:28</td>\n",
       "    </tr>\n",
       "    <tr>\n",
       "      <th>4366</th>\n",
       "      <td>FY 2017</td>\n",
       "      <td>Structural Fires</td>\n",
       "      <td>Brooklyn</td>\n",
       "      <td>7949</td>\n",
       "      <td>03:42</td>\n",
       "    </tr>\n",
       "    <tr>\n",
       "      <th>4367</th>\n",
       "      <td>FY 2017</td>\n",
       "      <td>Structural Fires</td>\n",
       "      <td>Queens</td>\n",
       "      <td>5362</td>\n",
       "      <td>04:34</td>\n",
       "    </tr>\n",
       "  </tbody>\n",
       "</table>\n",
       "<p>4368 rows × 5 columns</p>\n",
       "</div>"
      ],
      "text/plain": [
       "     YEARMONTH        INCIDENTCLASSIFICATION INCIDENTBOROUGH  INCIDENTCOUNT  \\\n",
       "0      2009/07  All Fire/Emergency Incidents        Citywide          40850   \n",
       "1      2009/07  All Fire/Emergency Incidents       Manhattan          10709   \n",
       "2      2009/07  All Fire/Emergency Incidents           Bronx           8137   \n",
       "3      2009/07  All Fire/Emergency Incidents   Staten Island           2205   \n",
       "4      2009/07  All Fire/Emergency Incidents        Brooklyn          11505   \n",
       "...        ...                           ...             ...            ...   \n",
       "4363   FY 2017              Structural Fires       Manhattan           5669   \n",
       "4364   FY 2017              Structural Fires           Bronx           5829   \n",
       "4365   FY 2017              Structural Fires   Staten Island           1266   \n",
       "4366   FY 2017              Structural Fires        Brooklyn           7949   \n",
       "4367   FY 2017              Structural Fires          Queens           5362   \n",
       "\n",
       "     AVERAGERESPONSETIME  \n",
       "0                  04:27  \n",
       "1                  04:32  \n",
       "2                  04:37  \n",
       "3                  04:45  \n",
       "4                  04:01  \n",
       "...                  ...  \n",
       "4363               04:26  \n",
       "4364               04:22  \n",
       "4365               04:28  \n",
       "4366               03:42  \n",
       "4367               04:34  \n",
       "\n",
       "[4368 rows x 5 columns]"
      ]
     },
     "metadata": {},
     "execution_count": 28
    }
   ],
   "metadata": {}
  },
  {
   "cell_type": "code",
   "execution_count": 29,
   "source": [
    "fdny = sqldf(\"SELECT * FROM fdny WHERE INCIDENTCLASSIFICATION != 'All Fire/Emergency Incidents' and INCIDENTBOROUGH !='Citywide' and YEARMONTH='FY 2017'\")\n",
    "fdny['INCIDENTCOUNT'].sum()\n",
    "#fdny"
   ],
   "outputs": [
    {
     "output_type": "execute_result",
     "data": {
      "text/plain": [
       "585368"
      ]
     },
     "metadata": {},
     "execution_count": 29
    }
   ],
   "metadata": {}
  },
  {
   "cell_type": "code",
   "execution_count": 31,
   "source": [
    "fdny = fdny.loc[fdny.index.repeat(fdny.INCIDENTCOUNT)]\n",
    "\n"
   ],
   "outputs": [],
   "metadata": {}
  },
  {
   "cell_type": "code",
   "execution_count": 32,
   "source": [
    "fdny = fdny[['INCIDENTCLASSIFICATION', 'INCIDENTBOROUGH', 'AVERAGERESPONSETIME']]\n",
    "fdny"
   ],
   "outputs": [
    {
     "output_type": "execute_result",
     "data": {
      "text/html": [
       "<div>\n",
       "<style scoped>\n",
       "    .dataframe tbody tr th:only-of-type {\n",
       "        vertical-align: middle;\n",
       "    }\n",
       "\n",
       "    .dataframe tbody tr th {\n",
       "        vertical-align: top;\n",
       "    }\n",
       "\n",
       "    .dataframe thead th {\n",
       "        text-align: right;\n",
       "    }\n",
       "</style>\n",
       "<table border=\"1\" class=\"dataframe\">\n",
       "  <thead>\n",
       "    <tr style=\"text-align: right;\">\n",
       "      <th></th>\n",
       "      <th>INCIDENTCLASSIFICATION</th>\n",
       "      <th>INCIDENTBOROUGH</th>\n",
       "      <th>AVERAGERESPONSETIME</th>\n",
       "    </tr>\n",
       "  </thead>\n",
       "  <tbody>\n",
       "    <tr>\n",
       "      <th>0</th>\n",
       "      <td>False Alarm</td>\n",
       "      <td>Manhattan</td>\n",
       "      <td>05:06</td>\n",
       "    </tr>\n",
       "    <tr>\n",
       "      <th>0</th>\n",
       "      <td>False Alarm</td>\n",
       "      <td>Manhattan</td>\n",
       "      <td>05:06</td>\n",
       "    </tr>\n",
       "    <tr>\n",
       "      <th>0</th>\n",
       "      <td>False Alarm</td>\n",
       "      <td>Manhattan</td>\n",
       "      <td>05:06</td>\n",
       "    </tr>\n",
       "    <tr>\n",
       "      <th>0</th>\n",
       "      <td>False Alarm</td>\n",
       "      <td>Manhattan</td>\n",
       "      <td>05:06</td>\n",
       "    </tr>\n",
       "    <tr>\n",
       "      <th>0</th>\n",
       "      <td>False Alarm</td>\n",
       "      <td>Manhattan</td>\n",
       "      <td>05:06</td>\n",
       "    </tr>\n",
       "    <tr>\n",
       "      <th>...</th>\n",
       "      <td>...</td>\n",
       "      <td>...</td>\n",
       "      <td>...</td>\n",
       "    </tr>\n",
       "    <tr>\n",
       "      <th>29</th>\n",
       "      <td>Structural Fires</td>\n",
       "      <td>Queens</td>\n",
       "      <td>04:34</td>\n",
       "    </tr>\n",
       "    <tr>\n",
       "      <th>29</th>\n",
       "      <td>Structural Fires</td>\n",
       "      <td>Queens</td>\n",
       "      <td>04:34</td>\n",
       "    </tr>\n",
       "    <tr>\n",
       "      <th>29</th>\n",
       "      <td>Structural Fires</td>\n",
       "      <td>Queens</td>\n",
       "      <td>04:34</td>\n",
       "    </tr>\n",
       "    <tr>\n",
       "      <th>29</th>\n",
       "      <td>Structural Fires</td>\n",
       "      <td>Queens</td>\n",
       "      <td>04:34</td>\n",
       "    </tr>\n",
       "    <tr>\n",
       "      <th>29</th>\n",
       "      <td>Structural Fires</td>\n",
       "      <td>Queens</td>\n",
       "      <td>04:34</td>\n",
       "    </tr>\n",
       "  </tbody>\n",
       "</table>\n",
       "<p>585368 rows × 3 columns</p>\n",
       "</div>"
      ],
      "text/plain": [
       "   INCIDENTCLASSIFICATION INCIDENTBOROUGH AVERAGERESPONSETIME\n",
       "0             False Alarm       Manhattan               05:06\n",
       "0             False Alarm       Manhattan               05:06\n",
       "0             False Alarm       Manhattan               05:06\n",
       "0             False Alarm       Manhattan               05:06\n",
       "0             False Alarm       Manhattan               05:06\n",
       "..                    ...             ...                 ...\n",
       "29       Structural Fires          Queens               04:34\n",
       "29       Structural Fires          Queens               04:34\n",
       "29       Structural Fires          Queens               04:34\n",
       "29       Structural Fires          Queens               04:34\n",
       "29       Structural Fires          Queens               04:34\n",
       "\n",
       "[585368 rows x 3 columns]"
      ]
     },
     "metadata": {},
     "execution_count": 32
    }
   ],
   "metadata": {}
  },
  {
   "cell_type": "code",
   "execution_count": 22,
   "source": [
    "fdny['AVERAGERESPONSETIME'].describe()"
   ],
   "outputs": [
    {
     "output_type": "execute_result",
     "data": {
      "text/plain": [
       "count        30\n",
       "unique       27\n",
       "top       04:26\n",
       "freq          2\n",
       "Name: AVERAGERESPONSETIME, dtype: object"
      ]
     },
     "metadata": {},
     "execution_count": 22
    }
   ],
   "metadata": {}
  },
  {
   "cell_type": "code",
   "execution_count": 33,
   "source": [
    "fdny['AVERAGERESPONSETIME']=fdny['AVERAGERESPONSETIME'].apply(lambda x: float(x.split(':')[0])*60+float(x.split(':')[1]))"
   ],
   "outputs": [],
   "metadata": {}
  },
  {
   "cell_type": "code",
   "execution_count": 34,
   "source": [
    "fdny['AVERAGERESPONSETIME'].describe()"
   ],
   "outputs": [
    {
     "output_type": "execute_result",
     "data": {
      "text/plain": [
       "count    585368.000000\n",
       "mean        293.743397\n",
       "std          31.402791\n",
       "min         222.000000\n",
       "25%         283.000000\n",
       "50%         294.000000\n",
       "75%         333.000000\n",
       "max         336.000000\n",
       "Name: AVERAGERESPONSETIME, dtype: float64"
      ]
     },
     "metadata": {},
     "execution_count": 34
    }
   ],
   "metadata": {}
  },
  {
   "cell_type": "code",
   "execution_count": 35,
   "source": [
    "fdny['AVERAGERESPONSETIME'] = pd.cut(fdny['AVERAGERESPONSETIME'], [222, 283, 294, 333, 336], labels=['q1', 'q2', 'q3', 'q4'], include_lowest=True)\n"
   ],
   "outputs": [],
   "metadata": {}
  },
  {
   "cell_type": "code",
   "execution_count": 37,
   "source": [
    "fdny\n",
    "fdny.to_csv('./datasets/fdny.csv')"
   ],
   "outputs": [],
   "metadata": {}
  }
 ],
 "metadata": {
  "interpreter": {
   "hash": "daad5fb88ddd9690fe3ffe64e4276d43d9f520c3e77bcf857a3567db548cb4a4"
  },
  "kernelspec": {
   "name": "python3",
   "display_name": "Python 3.9.12 64-bit ('db3': conda)"
  },
  "language_info": {
   "codemirror_mode": {
    "name": "ipython",
    "version": 3
   },
   "file_extension": ".py",
   "mimetype": "text/x-python",
   "name": "python",
   "nbconvert_exporter": "python",
   "pygments_lexer": "ipython3",
   "version": "3.9.12"
  },
  "orig_nbformat": 4
 },
 "nbformat": 4,
 "nbformat_minor": 2
}